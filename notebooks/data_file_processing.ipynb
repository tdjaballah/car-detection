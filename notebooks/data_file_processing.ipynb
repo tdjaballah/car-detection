{
 "cells": [
  {
   "cell_type": "code",
   "execution_count": 64,
   "metadata": {},
   "outputs": [
    {
     "data": {
      "text/plain": [
       "'/Users/az01640/Projets/car-detection/notebooks'"
      ]
     },
     "execution_count": 64,
     "metadata": {},
     "output_type": "execute_result"
    }
   ],
   "source": [
    "import pandas as pd\n",
    "import os\n",
    "import glob\n",
    "import re\n",
    "import pathlib\n",
    "import shutil\n",
    "import random\n",
    "from scipy.io import loadmat\n",
    "os.getcwd()"
   ]
  },
  {
   "cell_type": "code",
   "execution_count": null,
   "metadata": {},
   "outputs": [],
   "source": [
    "x = loadmat('../data/external/compcars_data/misc/make_model_name.mat')\n",
    "carmakers = {i:v[0][0]  for i, v in enumerate(x['make_names'])}\n",
    "carmakers"
   ]
  },
  {
   "cell_type": "code",
   "execution_count": null,
   "metadata": {},
   "outputs": [],
   "source": [
    "train_images = pd.read_csv('../data/external/compcars_data/train_test_split/classification/train.txt', header=None, delimiter=\" \")\n",
    "test_images = pd.read_csv('../data/external/compcars_data/train_test_split/classification/test.txt', header=None, delimiter=\" \")\n",
    "train_images[:10]\n"
   ]
  },
  {
   "cell_type": "code",
   "execution_count": null,
   "metadata": {},
   "outputs": [],
   "source": [
    "project_dir = \"/Users/az01640/Projets/car-detection\"\n",
    "car_images = glob.glob('{}/data/external/compcars_data/image/*/*/*/*.jpg'.format(project_dir))\n",
    "car_images"
   ]
  },
  {
   "cell_type": "code",
   "execution_count": null,
   "metadata": {},
   "outputs": [],
   "source": [
    "regex = re.compile('image/.*/(.*/.*/).*.jpg')\n",
    "i=0\n",
    "for old_file in car_images:\n",
    "    substring_to_delete = regex.findall(old_file)[0]\n",
    "    new_file = pathlib.Path(str(old_file).replace(substring_to_delete, ''))\n",
    "    print(i/len(car_images))\n",
    "    shutil.copy(str(old_file), str(new_file))\n",
    "    i+=1"
   ]
  },
  {
   "cell_type": "code",
   "execution_count": null,
   "metadata": {},
   "outputs": [],
   "source": [
    "project_dir = \"/Users/az01640/Projets/car-detection\"\n",
    "car_images = glob.glob('{}/data/external/compcars_data/image/*/*/*/'.format(project_dir))\n",
    "[os.rmdir(f) for f in car_images]\n",
    "car_images = glob.glob('{}/data/external/compcars_data/image/*/*/'.format(project_dir))\n",
    "[os.rmdir(f) for f in car_images]"
   ]
  },
  {
   "cell_type": "code",
   "execution_count": null,
   "metadata": {},
   "outputs": [],
   "source": [
    "shutil.rmtree('{}/data/external/compcars_data/label'.format(project_dir))"
   ]
  },
  {
   "cell_type": "code",
   "execution_count": null,
   "metadata": {},
   "outputs": [],
   "source": [
    "shutil.rmtree('{}/data/external/compcars_data/part'.format(project_dir))"
   ]
  },
  {
   "cell_type": "code",
   "execution_count": null,
   "metadata": {},
   "outputs": [],
   "source": [
    "shutil.rmtree('{}/data/external/compcars_data/train_test_split/part'.format(project_dir))"
   ]
  },
  {
   "cell_type": "code",
   "execution_count": 68,
   "metadata": {},
   "outputs": [],
   "source": [
    "train_images = list(pd.read_csv('{}/data/external/compcars_data/train_test_split/classification/train.txt'.format(project_dir),\n",
    "                          header=None)[0])\n",
    "test_images = list(pd.read_csv('{}/data/external/compcars_data/train_test_split/classification/test.txt'.format(project_dir),\n",
    "                          header=None)[0])"
   ]
  },
  {
   "cell_type": "code",
   "execution_count": 69,
   "metadata": {},
   "outputs": [],
   "source": [
    "regex = re.compile('.*/(.*.jpg)')\n",
    "train_images = [regex.findall(i)[0] for i in train_images]\n",
    "test_images = [regex.findall(i)[0] for i in test_images]"
   ]
  },
  {
   "cell_type": "code",
   "execution_count": 78,
   "metadata": {},
   "outputs": [],
   "source": [
    "car_images = glob.glob('{}/data/external/compcars_data/image/*/*.jpg'.format(project_dir))\n",
    "regex = re.compile('image/.*/(.*.jpg)')\n",
    "mode_list = ['train']*6 + ['test']*4\n",
    "for i in car_images:\n",
    "    image_name = regex.findall(i)[0]\n",
    "    if image_name in train_images:\n",
    "        mode = \"train\"\n",
    "    elif image_name in test_images:\n",
    "        mode = \"test\"\n",
    "    else:\n",
    "        mode = random.choice(mode_list)\n",
    "    new_file = pathlib.Path(str(i).replace('image', '{}_image'.format(mode)))\n",
    "    new_file.parent.mkdir(parents=True, exist_ok=True)\n",
    "    shutil.copy(str(i), str(new_file))"
   ]
  },
  {
   "cell_type": "code",
   "execution_count": 77,
   "metadata": {},
   "outputs": [
    {
     "data": {
      "text/plain": [
       "PosixPath('/Users/az01640/Projets/car-detection/data/external/compcars_data/test_image/157')"
      ]
     },
     "execution_count": 77,
     "metadata": {},
     "output_type": "execute_result"
    }
   ],
   "source": [
    "new_file.parent"
   ]
  },
  {
   "cell_type": "code",
   "execution_count": null,
   "metadata": {},
   "outputs": [],
   "source": []
  }
 ],
 "metadata": {
  "kernelspec": {
   "display_name": "Python 3",
   "language": "python",
   "name": "python3"
  },
  "language_info": {
   "codemirror_mode": {
    "name": "ipython",
    "version": 3
   },
   "file_extension": ".py",
   "mimetype": "text/x-python",
   "name": "python",
   "nbconvert_exporter": "python",
   "pygments_lexer": "ipython3",
   "version": "3.5.6"
  },
  "widgets": {
   "state": {},
   "version": "1.1.2"
  }
 },
 "nbformat": 4,
 "nbformat_minor": 2
}
