{
 "cells": [
  {
   "cell_type": "code",
   "execution_count": null,
   "metadata": {},
   "outputs": [],
   "source": [
    "import pandas as pd\n",
    "import os\n",
    "import glob\n",
    "import re\n",
    "import pathlib\n",
    "import shutil\n",
    "import random\n",
    "import cv2\n",
    "\n",
    "from pathlib import Path\n",
    "from darkflow.net.build import TFNet\n",
    "from scipy.io import loadmat\n",
    "\n",
    "os.getcwd()"
   ]
  },
  {
   "cell_type": "code",
   "execution_count": null,
   "metadata": {},
   "outputs": [],
   "source": [
    "x = loadmat('../data/external/compcars_data/misc/make_model_name.mat')\n",
    "carmakers = {i:v[0][0]  for i, v in enumerate(x['make_names'])}\n",
    "carmakers[2]"
   ]
  },
  {
   "cell_type": "code",
   "execution_count": null,
   "metadata": {},
   "outputs": [],
   "source": [
    "train_images = pd.read_csv('../data/external/compcars_data/train_test_split/classification/train.txt', header=None, delimiter=\" \")\n",
    "test_images = pd.read_csv('../data/external/compcars_data/train_test_split/classification/test.txt', header=None, delimiter=\" \")\n",
    "train_images[:10]\n"
   ]
  },
  {
   "cell_type": "code",
   "execution_count": null,
   "metadata": {},
   "outputs": [],
   "source": [
    "project_dir = \"/Users/az01640/Projets/car-detection\"\n",
    "car_images = glob.glob('{}/data/external/compcars_data/image/*/*.jpg'.format(project_dir))\n",
    "car_images"
   ]
  },
  {
   "cell_type": "code",
   "execution_count": null,
   "metadata": {},
   "outputs": [],
   "source": [
    "regex = re.compile('image(/.*/).*.jpg')\n",
    "i=0\n",
    "for old_file in car_images:\n",
    "    substring_to_delete = regex.findall(old_file)[0]\n",
    "    integer_model = int(substring_to_delete.replace(\"/\",\"\")) - 1\n",
    "    new_file = pathlib.Path(str(old_file).replace(str(substring_to_delete), \"/\" + carmakers[integer_model] + \"/\"))\n",
    "    new_file.parent.mkdir(parents=True, exist_ok=True)\n",
    "    print(i/len(car_images))\n",
    "    shutil.copy(str(old_file), str(new_file))\n",
    "    i+=1"
   ]
  },
  {
   "cell_type": "code",
   "execution_count": null,
   "metadata": {},
   "outputs": [],
   "source": [
    "def get_cars_from_images(tfnet, image_file_path):\n",
    "\n",
    "    imgcv = cv2.imread(image_file_path)\n",
    "    result = tfnet.return_predict(imgcv)\n",
    "    result = sorted([d for d in result if d['label'] == 'car'],key = lambda x: x['confidence'], reverse=True)\n",
    "\n",
    "    if len(result) > 0:\n",
    "        \n",
    "        d = result[0]\n",
    "        topleft = d['topleft']\n",
    "        bottomright = d['bottomright']\n",
    "\n",
    "        xDiff = abs(topleft['x'] - bottomright['x'])\n",
    "        yDiff = abs(topleft['y'] - bottomright['y'])\n",
    "\n",
    "        topleft['y'] = max(int(topleft['y'] - 0.1 * yDiff), 0)\n",
    "        topleft['x'] = max(int(topleft['x'] - 0.1 * xDiff), 0)\n",
    "\n",
    "        bottomright['y'] = max(int(bottomright['y'] + 0.1 * yDiff), 0)\n",
    "        bottomright['x'] = max(int(bottomright['x'] + 0.1 * xDiff), 0)\n",
    "\n",
    "        output_filepath = image_file_path.replace(\"image\",\"image_gray\")\n",
    "        \n",
    "        Path(output_filepath).parent.mkdir(parents=True, exist_ok=True)\n",
    "        img_gray = cv2.cvtColor(imgcv, cv2.COLOR_BGR2GRAY)\n",
    "        cv2.imwrite(filename=output_filepath,\n",
    "                    img=img_gray[topleft['y']:bottomright['y'], topleft['x']:bottomright['x']])\n",
    "\n",
    "    return result\n",
    "\n",
    "class GetCarsFromImages(object):\n",
    "\n",
    "    def __init__(self, tfnet):\n",
    "        self.tfnet = tfnet\n",
    "\n",
    "    def __call__(self, lat_lng_coord):\n",
    "        get_cars_from_images(self.tfnet, image_file_path)"
   ]
  },
  {
   "cell_type": "code",
   "execution_count": null,
   "metadata": {},
   "outputs": [],
   "source": [
    "project_dir = \"/Users/az01640/Projets/car-detection\"\n",
    "\n",
    "input_images = glob.glob('{}/data/external/compcars_data/image/*/*.jpg'.format(project_dir))\n",
    "\n",
    "yolo_v2_dir = \"{}/models/yolo_v2\".format(project_dir)\n",
    "options = {\"model\": \"{}/cfg/yolo.cfg\".format(yolo_v2_dir),\n",
    "           \"load\": \"{}/bin/yolov2.weights\".format(yolo_v2_dir),\n",
    "           \"config\": \"{}/cfg\".format(yolo_v2_dir),\n",
    "           \"threshold\": 0.1}\n",
    "\n",
    "tfnet = TFNet(options)"
   ]
  },
  {
   "cell_type": "code",
   "execution_count": null,
   "metadata": {},
   "outputs": [],
   "source": [
    "input_images"
   ]
  },
  {
   "cell_type": "code",
   "execution_count": null,
   "metadata": {},
   "outputs": [],
   "source": [
    "for img in input_images:\n",
    "    get_cars_from_images(tfnet, img)"
   ]
  },
  {
   "cell_type": "code",
   "execution_count": null,
   "metadata": {},
   "outputs": [],
   "source": [
    "project_dir = \"/Users/az01640/Projets/car-detection\"\n",
    "car_images = glob.glob('{}/data/external/compcars_data/image/*/*/*/'.format(project_dir))\n",
    "[os.rmdir(f) for f in car_images]\n",
    "car_images = glob.glob('{}/data/external/compcars_data/image/*/*/'.format(project_dir))\n",
    "[os.rmdir(f) for f in car_images]"
   ]
  },
  {
   "cell_type": "code",
   "execution_count": null,
   "metadata": {},
   "outputs": [],
   "source": [
    "shutil.rmtree('{}/data/external/compcars_data/label'.format(project_dir))"
   ]
  },
  {
   "cell_type": "code",
   "execution_count": null,
   "metadata": {},
   "outputs": [],
   "source": [
    "shutil.rmtree('{}/data/external/compcars_data/part'.format(project_dir))"
   ]
  },
  {
   "cell_type": "code",
   "execution_count": null,
   "metadata": {},
   "outputs": [],
   "source": [
    "shutil.rmtree('{}/data/external/compcars_data/train_test_split/part'.format(project_dir))"
   ]
  },
  {
   "cell_type": "code",
   "execution_count": null,
   "metadata": {},
   "outputs": [],
   "source": [
    "train_images = list(pd.read_csv('{}/data/external/compcars_data/train_test_split/classification/train.txt'.format(project_dir),\n",
    "                          header=None)[0])\n",
    "test_images = list(pd.read_csv('{}/data/external/compcars_data/train_test_split/classification/test.txt'.format(project_dir),\n",
    "                          header=None)[0])"
   ]
  },
  {
   "cell_type": "code",
   "execution_count": null,
   "metadata": {},
   "outputs": [],
   "source": [
    "regex = re.compile('.*/(.*.jpg)')\n",
    "train_images = [regex.findall(i)[0] for i in train_images]\n",
    "test_images = [regex.findall(i)[0] for i in test_images]"
   ]
  },
  {
   "cell_type": "code",
   "execution_count": null,
   "metadata": {},
   "outputs": [],
   "source": [
    "car_images = glob.glob('{}/data/external/compcars_data/image_gray/*/*.jpg'.format(project_dir))\n",
    "regex = re.compile('image_gray/.*/(.*.jpg)')\n",
    "mode_list = ['train']*6 + ['test']*4\n",
    "for i in car_images:\n",
    "    image_name = regex.findall(i)[0]\n",
    "    if image_name in train_images:\n",
    "        mode = \"train\"\n",
    "    elif image_name in test_images:\n",
    "        mode = \"test\"\n",
    "    else:\n",
    "        mode = random.choice(mode_list)\n",
    "    new_file = pathlib.Path(str(i).replace('image', '{}_image'.format(mode)))\n",
    "    new_file.parent.mkdir(parents=True, exist_ok=True)\n",
    "    shutil.copy(str(i), str(new_file))"
   ]
  },
  {
   "cell_type": "code",
   "execution_count": null,
   "metadata": {},
   "outputs": [],
   "source": [
    "car_images"
   ]
  },
  {
   "cell_type": "code",
   "execution_count": null,
   "metadata": {},
   "outputs": [],
   "source": []
  }
 ],
 "metadata": {
  "kernelspec": {
   "display_name": "Python 3",
   "language": "python",
   "name": "python3"
  },
  "language_info": {
   "codemirror_mode": {
    "name": "ipython",
    "version": 3
   },
   "file_extension": ".py",
   "mimetype": "text/x-python",
   "name": "python",
   "nbconvert_exporter": "python",
   "pygments_lexer": "ipython3",
   "version": "3.5.6"
  },
  "widgets": {
   "state": {},
   "version": "1.1.2"
  }
 },
 "nbformat": 4,
 "nbformat_minor": 2
}
